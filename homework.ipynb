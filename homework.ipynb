{
 "cells": [
  {
   "cell_type": "code",
   "id": "initial_id",
   "metadata": {
    "collapsed": true,
    "ExecuteTime": {
     "end_time": "2024-09-12T20:37:34.897284Z",
     "start_time": "2024-09-12T20:37:34.895289Z"
    }
   },
   "source": [
    "import pandas as pd\n",
    "import random"
   ],
   "outputs": [],
   "execution_count": 43
  },
  {
   "metadata": {
    "ExecuteTime": {
     "end_time": "2024-09-12T20:37:34.901649Z",
     "start_time": "2024-09-12T20:37:34.898194Z"
    }
   },
   "cell_type": "code",
   "source": [
    "lst = ['robot'] * 10\n",
    "lst += ['human'] * 10"
   ],
   "id": "8bf0498eb1a5fadc",
   "outputs": [],
   "execution_count": 44
  },
  {
   "metadata": {
    "ExecuteTime": {
     "end_time": "2024-09-12T20:37:34.905651Z",
     "start_time": "2024-09-12T20:37:34.902222Z"
    }
   },
   "cell_type": "code",
   "source": "lst",
   "id": "28aa63bcc718cfc3",
   "outputs": [
    {
     "data": {
      "text/plain": [
       "['robot',\n",
       " 'robot',\n",
       " 'robot',\n",
       " 'robot',\n",
       " 'robot',\n",
       " 'robot',\n",
       " 'robot',\n",
       " 'robot',\n",
       " 'robot',\n",
       " 'robot',\n",
       " 'human',\n",
       " 'human',\n",
       " 'human',\n",
       " 'human',\n",
       " 'human',\n",
       " 'human',\n",
       " 'human',\n",
       " 'human',\n",
       " 'human',\n",
       " 'human']"
      ]
     },
     "execution_count": 45,
     "metadata": {},
     "output_type": "execute_result"
    }
   ],
   "execution_count": 45
  },
  {
   "metadata": {
    "ExecuteTime": {
     "end_time": "2024-09-12T20:37:34.910453Z",
     "start_time": "2024-09-12T20:37:34.906340Z"
    }
   },
   "cell_type": "code",
   "source": "random.shuffle(lst)",
   "id": "5151ee0fa0fd4547",
   "outputs": [],
   "execution_count": 46
  },
  {
   "metadata": {
    "ExecuteTime": {
     "end_time": "2024-09-12T20:37:34.914488Z",
     "start_time": "2024-09-12T20:37:34.911215Z"
    }
   },
   "cell_type": "code",
   "source": "lst",
   "id": "38da34ed37cdf174",
   "outputs": [
    {
     "data": {
      "text/plain": [
       "['robot',\n",
       " 'human',\n",
       " 'robot',\n",
       " 'robot',\n",
       " 'human',\n",
       " 'robot',\n",
       " 'human',\n",
       " 'robot',\n",
       " 'robot',\n",
       " 'robot',\n",
       " 'human',\n",
       " 'robot',\n",
       " 'robot',\n",
       " 'human',\n",
       " 'robot',\n",
       " 'human',\n",
       " 'human',\n",
       " 'human',\n",
       " 'human',\n",
       " 'human']"
      ]
     },
     "execution_count": 47,
     "metadata": {},
     "output_type": "execute_result"
    }
   ],
   "execution_count": 47
  },
  {
   "metadata": {
    "ExecuteTime": {
     "end_time": "2024-09-12T20:37:34.919175Z",
     "start_time": "2024-09-12T20:37:34.915207Z"
    }
   },
   "cell_type": "code",
   "source": [
    "data_frame = pd.DataFrame({'whoAmI': lst})\n",
    "data_frame.head()"
   ],
   "id": "589b79343f1a233b",
   "outputs": [
    {
     "data": {
      "text/plain": [
       "  whoAmI\n",
       "0  robot\n",
       "1  human\n",
       "2  robot\n",
       "3  robot\n",
       "4  human"
      ],
      "text/html": [
       "<div>\n",
       "<style scoped>\n",
       "    .dataframe tbody tr th:only-of-type {\n",
       "        vertical-align: middle;\n",
       "    }\n",
       "\n",
       "    .dataframe tbody tr th {\n",
       "        vertical-align: top;\n",
       "    }\n",
       "\n",
       "    .dataframe thead th {\n",
       "        text-align: right;\n",
       "    }\n",
       "</style>\n",
       "<table border=\"1\" class=\"dataframe\">\n",
       "  <thead>\n",
       "    <tr style=\"text-align: right;\">\n",
       "      <th></th>\n",
       "      <th>whoAmI</th>\n",
       "    </tr>\n",
       "  </thead>\n",
       "  <tbody>\n",
       "    <tr>\n",
       "      <th>0</th>\n",
       "      <td>robot</td>\n",
       "    </tr>\n",
       "    <tr>\n",
       "      <th>1</th>\n",
       "      <td>human</td>\n",
       "    </tr>\n",
       "    <tr>\n",
       "      <th>2</th>\n",
       "      <td>robot</td>\n",
       "    </tr>\n",
       "    <tr>\n",
       "      <th>3</th>\n",
       "      <td>robot</td>\n",
       "    </tr>\n",
       "    <tr>\n",
       "      <th>4</th>\n",
       "      <td>human</td>\n",
       "    </tr>\n",
       "  </tbody>\n",
       "</table>\n",
       "</div>"
      ]
     },
     "execution_count": 48,
     "metadata": {},
     "output_type": "execute_result"
    }
   ],
   "execution_count": 48
  },
  {
   "metadata": {
    "ExecuteTime": {
     "end_time": "2024-09-12T20:37:34.924351Z",
     "start_time": "2024-09-12T20:37:34.919657Z"
    }
   },
   "cell_type": "code",
   "source": "pd.get_dummies(data_frame['whoAmI'])",
   "id": "e078c998358ca859",
   "outputs": [
    {
     "data": {
      "text/plain": [
       "    human  robot\n",
       "0   False   True\n",
       "1    True  False\n",
       "2   False   True\n",
       "3   False   True\n",
       "4    True  False\n",
       "5   False   True\n",
       "6    True  False\n",
       "7   False   True\n",
       "8   False   True\n",
       "9   False   True\n",
       "10   True  False\n",
       "11  False   True\n",
       "12  False   True\n",
       "13   True  False\n",
       "14  False   True\n",
       "15   True  False\n",
       "16   True  False\n",
       "17   True  False\n",
       "18   True  False\n",
       "19   True  False"
      ],
      "text/html": [
       "<div>\n",
       "<style scoped>\n",
       "    .dataframe tbody tr th:only-of-type {\n",
       "        vertical-align: middle;\n",
       "    }\n",
       "\n",
       "    .dataframe tbody tr th {\n",
       "        vertical-align: top;\n",
       "    }\n",
       "\n",
       "    .dataframe thead th {\n",
       "        text-align: right;\n",
       "    }\n",
       "</style>\n",
       "<table border=\"1\" class=\"dataframe\">\n",
       "  <thead>\n",
       "    <tr style=\"text-align: right;\">\n",
       "      <th></th>\n",
       "      <th>human</th>\n",
       "      <th>robot</th>\n",
       "    </tr>\n",
       "  </thead>\n",
       "  <tbody>\n",
       "    <tr>\n",
       "      <th>0</th>\n",
       "      <td>False</td>\n",
       "      <td>True</td>\n",
       "    </tr>\n",
       "    <tr>\n",
       "      <th>1</th>\n",
       "      <td>True</td>\n",
       "      <td>False</td>\n",
       "    </tr>\n",
       "    <tr>\n",
       "      <th>2</th>\n",
       "      <td>False</td>\n",
       "      <td>True</td>\n",
       "    </tr>\n",
       "    <tr>\n",
       "      <th>3</th>\n",
       "      <td>False</td>\n",
       "      <td>True</td>\n",
       "    </tr>\n",
       "    <tr>\n",
       "      <th>4</th>\n",
       "      <td>True</td>\n",
       "      <td>False</td>\n",
       "    </tr>\n",
       "    <tr>\n",
       "      <th>5</th>\n",
       "      <td>False</td>\n",
       "      <td>True</td>\n",
       "    </tr>\n",
       "    <tr>\n",
       "      <th>6</th>\n",
       "      <td>True</td>\n",
       "      <td>False</td>\n",
       "    </tr>\n",
       "    <tr>\n",
       "      <th>7</th>\n",
       "      <td>False</td>\n",
       "      <td>True</td>\n",
       "    </tr>\n",
       "    <tr>\n",
       "      <th>8</th>\n",
       "      <td>False</td>\n",
       "      <td>True</td>\n",
       "    </tr>\n",
       "    <tr>\n",
       "      <th>9</th>\n",
       "      <td>False</td>\n",
       "      <td>True</td>\n",
       "    </tr>\n",
       "    <tr>\n",
       "      <th>10</th>\n",
       "      <td>True</td>\n",
       "      <td>False</td>\n",
       "    </tr>\n",
       "    <tr>\n",
       "      <th>11</th>\n",
       "      <td>False</td>\n",
       "      <td>True</td>\n",
       "    </tr>\n",
       "    <tr>\n",
       "      <th>12</th>\n",
       "      <td>False</td>\n",
       "      <td>True</td>\n",
       "    </tr>\n",
       "    <tr>\n",
       "      <th>13</th>\n",
       "      <td>True</td>\n",
       "      <td>False</td>\n",
       "    </tr>\n",
       "    <tr>\n",
       "      <th>14</th>\n",
       "      <td>False</td>\n",
       "      <td>True</td>\n",
       "    </tr>\n",
       "    <tr>\n",
       "      <th>15</th>\n",
       "      <td>True</td>\n",
       "      <td>False</td>\n",
       "    </tr>\n",
       "    <tr>\n",
       "      <th>16</th>\n",
       "      <td>True</td>\n",
       "      <td>False</td>\n",
       "    </tr>\n",
       "    <tr>\n",
       "      <th>17</th>\n",
       "      <td>True</td>\n",
       "      <td>False</td>\n",
       "    </tr>\n",
       "    <tr>\n",
       "      <th>18</th>\n",
       "      <td>True</td>\n",
       "      <td>False</td>\n",
       "    </tr>\n",
       "    <tr>\n",
       "      <th>19</th>\n",
       "      <td>True</td>\n",
       "      <td>False</td>\n",
       "    </tr>\n",
       "  </tbody>\n",
       "</table>\n",
       "</div>"
      ]
     },
     "execution_count": 49,
     "metadata": {},
     "output_type": "execute_result"
    }
   ],
   "execution_count": 49
  },
  {
   "metadata": {
    "ExecuteTime": {
     "end_time": "2024-09-12T20:37:34.927737Z",
     "start_time": "2024-09-12T20:37:34.925137Z"
    }
   },
   "cell_type": "code",
   "source": "lst",
   "id": "19718a78ff9002b2",
   "outputs": [
    {
     "data": {
      "text/plain": [
       "['robot',\n",
       " 'human',\n",
       " 'robot',\n",
       " 'robot',\n",
       " 'human',\n",
       " 'robot',\n",
       " 'human',\n",
       " 'robot',\n",
       " 'robot',\n",
       " 'robot',\n",
       " 'human',\n",
       " 'robot',\n",
       " 'robot',\n",
       " 'human',\n",
       " 'robot',\n",
       " 'human',\n",
       " 'human',\n",
       " 'human',\n",
       " 'human',\n",
       " 'human']"
      ]
     },
     "execution_count": 50,
     "metadata": {},
     "output_type": "execute_result"
    }
   ],
   "execution_count": 50
  },
  {
   "metadata": {
    "ExecuteTime": {
     "end_time": "2024-09-12T20:37:34.931215Z",
     "start_time": "2024-09-12T20:37:34.928482Z"
    }
   },
   "cell_type": "code",
   "source": "data_frame['whoAmI'].unique()",
   "id": "6880c18baab15714",
   "outputs": [
    {
     "data": {
      "text/plain": [
       "array(['robot', 'human'], dtype=object)"
      ]
     },
     "execution_count": 51,
     "metadata": {},
     "output_type": "execute_result"
    }
   ],
   "execution_count": 51
  },
  {
   "metadata": {
    "ExecuteTime": {
     "end_time": "2024-09-12T20:37:34.935629Z",
     "start_time": "2024-09-12T20:37:34.931699Z"
    }
   },
   "cell_type": "code",
   "source": [
    "# Преобразование в one-hot представление\n",
    "for unique_value in data_frame['whoAmI'].unique():\n",
    "    data_frame[unique_value] = (data_frame['whoAmI'] == unique_value).astype(int)\n",
    "\n",
    "print(data_frame.head(n=len(lst)))"
   ],
   "id": "1bc592b8e4e0ee88",
   "outputs": [
    {
     "name": "stdout",
     "output_type": "stream",
     "text": [
      "   whoAmI  robot  human\n",
      "0   robot      1      0\n",
      "1   human      0      1\n",
      "2   robot      1      0\n",
      "3   robot      1      0\n",
      "4   human      0      1\n",
      "5   robot      1      0\n",
      "6   human      0      1\n",
      "7   robot      1      0\n",
      "8   robot      1      0\n",
      "9   robot      1      0\n",
      "10  human      0      1\n",
      "11  robot      1      0\n",
      "12  robot      1      0\n",
      "13  human      0      1\n",
      "14  robot      1      0\n",
      "15  human      0      1\n",
      "16  human      0      1\n",
      "17  human      0      1\n",
      "18  human      0      1\n",
      "19  human      0      1\n"
     ]
    }
   ],
   "execution_count": 52
  }
 ],
 "metadata": {
  "kernelspec": {
   "display_name": "Python 3",
   "language": "python",
   "name": "python3"
  },
  "language_info": {
   "codemirror_mode": {
    "name": "ipython",
    "version": 2
   },
   "file_extension": ".py",
   "mimetype": "text/x-python",
   "name": "python",
   "nbconvert_exporter": "python",
   "pygments_lexer": "ipython2",
   "version": "2.7.6"
  }
 },
 "nbformat": 4,
 "nbformat_minor": 5
}
